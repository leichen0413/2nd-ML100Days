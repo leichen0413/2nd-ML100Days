{
 "cells": [
  {
   "cell_type": "markdown",
   "metadata": {},
   "source": [
    "作業1\n",
    "\n",
    "1.你選的這組資料為何重要\n",
    "Ans : 選擇了下列網址的資料\n",
    "Digit Recognizer\n",
    "https://www.kaggle.com/c/digit-recognizer\n",
    "\n",
    "手寫數字辨識，這是個很有意思的題目且實用\n",
    "\n",
    "2.資料從何而來 (tips: 譬如提供者是誰、以什麼方式蒐集)\n",
    "Ans : 資料內容將手寫數字的影像轉為灰階後的pixel資料\n",
    "\n",
    "3.蒐集而來的資料型態為何\n",
    "Ans : 資料分為測試資料和訓練資料，每一列代表1個影像資料\n",
    "\n",
    "4.這組資料想解決的問題如何評估\n",
    "以classification或CNN進行\n"
   ]
  },
  {
   "cell_type": "markdown",
   "metadata": {},
   "source": [
    "作業2\n",
    "\n",
    "想像你經營一個自由載客車隊，你希望能透過數據分析以提升業績，請你思考並描述你如何規劃整體的分析/解決方案：\n",
    "\n",
    "1.核心問題為何 (tips：如何定義 「提升業績 & 你的假設」)\n",
    "Ans : \n",
    "先了解業績不到平均的司機所在區域、服務評價、載客時間和載客數\n",
    "以提升載客數為主\n",
    "\n",
    "2.資料從何而來 (tips：哪些資料可能會對你想問的問題產生影響 & 資料如何蒐集)\n",
    "Ans : 所有司機的所在區域、服務評價、載客時間、載客數和業績\n",
    "\n",
    "3.蒐集而來的資料型態為何\n",
    "Ans : 區域、服務評價為分類資料\n",
    "載客時間除總載客時數外，尚會分為區段\n",
    "載客數和業績為數字資料\n",
    "\n",
    "4.你要回答的問題，其如何評估 (tips：你的假設如何驗證)\n",
    "使用classification或關聯找出業績高與低的相關性"
   ]
  },
  {
   "cell_type": "code",
   "execution_count": 2,
   "metadata": {},
   "outputs": [],
   "source": [
    "import numpy as np\n",
    "import matplotlib.pyplot as plt"
   ]
  },
  {
   "cell_type": "code",
   "execution_count": 3,
   "metadata": {},
   "outputs": [],
   "source": [
    "w = 3\n",
    "b = 0.5\n",
    "\n",
    "x_lin = np.linspace(0, 100, 101)\n",
    "\n",
    "y = (x_lin + np.random.randn(101) * 5) * w + b\n",
    "\n",
    "plt.plot(x_lin, y, 'b.', label = 'data points')\n",
    "plt.title(\"Assume we have data points\")\n",
    "plt.legend(loc = 2)\n",
    "plt.show()"
   ]
  },
  {
   "cell_type": "code",
   "execution_count": 4,
   "metadata": {},
   "outputs": [],
   "source": [
    "y_hat = x_lin * w + b\n",
    "plt.plot(x_lin, y, 'b.', label = 'data')\n",
    "plt.plot(x_lin, y_hat, 'r-', label = 'prediction')\n",
    "plt.title(\"Assume we have data points (And the prediction)\")\n",
    "plt.legend(loc = 2)\n",
    "plt.show()"
   ]
  },
  {
   "cell_type": "code",
   "execution_count": 5,
   "metadata": {},
   "outputs": [
    {
     "name": "stdout",
     "output_type": "stream",
     "text": [
      "The Mean absolute error is 11.394\n"
     ]
    }
   ],
   "source": [
    "def mean_absolute_error(y, yp):\n",
    "    \"\"\"\n",
    "    計算 MAE\n",
    "    Args:\n",
    "        - y: 實際值\n",
    "        - yp: 預測值\n",
    "    Return:\n",
    "        - mae: MAE\n",
    "    \"\"\"\n",
    "    mae = MAE = sum(abs(y - yp)) / len(y)\n",
    "    return mae\n",
    "\n",
    "MAE = mean_absolute_error(y, y_hat)\n",
    "print(\"The Mean absolute error is %.3f\" % (MAE))"
   ]
  },
  {
   "cell_type": "code",
   "execution_count": 7,
   "metadata": {},
   "outputs": [
    {
     "name": "stdout",
     "output_type": "stream",
     "text": [
      "The Mean absolute error is 11.394\n",
      "The Mean square error is 198.587\n"
     ]
    }
   ],
   "source": [
    "def mean_square_error(y, yp):\n",
    "    \"\"\"\n",
    "    計算 MSE\n",
    "    Args:\n",
    "        - y: 實際值\n",
    "        - yp: 預測值\n",
    "    Return:\n",
    "        - mse: MSE\n",
    "    \"\"\"\n",
    "    mse = sum((y - yp) ** 2) / len(y)\n",
    "    return mse\n",
    "\n",
    "MAE = mean_absolute_error(y, y_hat)\n",
    "MSE = mean_square_error(y, y_hat)\n",
    "print(\"The Mean absolute error is %.3f\" % (MAE))\n",
    "print(\"The Mean square error is %.3f\" % (MSE))"
   ]
  },
  {
   "cell_type": "code",
   "execution_count": null,
   "metadata": {},
   "outputs": [],
   "source": []
  }
 ],
 "metadata": {
  "kernelspec": {
   "display_name": "Python 2",
   "language": "python",
   "name": "python2"
  },
  "language_info": {
   "codemirror_mode": {
    "name": "ipython",
    "version": 2
   },
   "file_extension": ".py",
   "mimetype": "text/x-python",
   "name": "python",
   "nbconvert_exporter": "python",
   "pygments_lexer": "ipython2",
   "version": "2.7.5"
  }
 },
 "nbformat": 4,
 "nbformat_minor": 2
}
